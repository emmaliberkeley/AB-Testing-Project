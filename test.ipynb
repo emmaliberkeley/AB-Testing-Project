{
 "cells": [
  {
   "cell_type": "markdown",
   "metadata": {},
   "source": [
    "## Enhancing Student Experience Without Compromising Revenue: A/B Testing the Inplementation of Free Trial Screener.\n",
    "##### The final project of the course Udacity A/B Testing by Google "
   ]
  },
  {
   "cell_type": "markdown",
   "metadata": {},
   "source": [
    "## Table of Contents\n",
    "\n",
    "## TBD: Need to change later, not matching right section\n",
    "- [1. Project Overview](#1-project-overview)\n",
    "  - [1.1 Situation](#11-situation)\n",
    "  - [1.2 Goal](#12-goal)\n",
    "  - [1.3 Treatment](#13-treatment)\n",
    "  - [1.4 Expected Result](#14-expected-result)\n",
    "- [2. Experiment Setup](#2-experiment-setup)\n",
    "  - [2.1 Metric Choice](#21-metric-choice)\n",
    "    - [2.1.1 Choosing Invariant Metrics](#211-choosing-invariant-metrics)\n",
    "    - [2.1.2 Choosing Evaluation Metrics](#212-choosing-evaluation-metrics)\n",
    "  - [2.2 Measuring Variability](#22-measuring-variability)\n",
    "    - [2.2.1 Scaling Given Sample Size of 5000](#221-scaling-given-sample-size-of-5000)\n",
    "    - [2.2.2 SE for Evaluation Metrics](#222-se-for-evaluation-metrics)\n",
    "- [3. Sizing](#3-sizing)\n",
    "  - [3.1 Alpha and Beta Set Up](#31-alpha-and-beta-set-up)\n",
    "  - [3.2 Sample Size in Pageview](#32-sample-size-in-pageview)\n",
    "- [4. Exposure and Duration](#4-exposure-and-duration)\n",
    "  - [4.1 Final Number of Pageviews](#41-final-number-of-pageviews)\n",
    "  - [4.2 Duration in Days](#42-duration-in-days)\n",
    "  - [4.3 Fraction of Traffic](#43-fraction-of-traffic)\n",
    "- [5. Multiple Metrics Alpha Correction?](#5-multiple-metrics-alpha-correction)\n",
    "\n",
    "- [6. Data Analysis](#6-data-analysis)\n",
    "  - [6.1 EDA](#61-eda)\n",
    "  - [6.2 Sanity Check](#62-sanity-check)\n",
    "  - [6.3 Effect Size Testing](#63-effect-size-testing)\n",
    "  - [6.4 Sign Test](#64-sign-test)\n",
    "- [7. Interpretation & Recommendation](#7-interpretation-recommendation)\n",
    "\n",
    "- [8. Follow-Up Experiment](#8-follow-up-experiment)\n",
    "\n"
   ]
  },
  {
   "cell_type": "code",
   "execution_count": 2,
   "metadata": {},
   "outputs": [
    {
     "name": "stderr",
     "output_type": "stream",
     "text": [
      "/var/folders/8p/w4d0t_mn00l0f0frhkrgm17m0000gq/T/ipykernel_45039/1238124604.py:3: DeprecationWarning: \n",
      "Pyarrow will become a required dependency of pandas in the next major release of pandas (pandas 3.0),\n",
      "(to allow more performant data types, such as the Arrow string type, and better interoperability with other libraries)\n",
      "but was not found to be installed on your system.\n",
      "If this would cause problems for you,\n",
      "please provide us feedback at https://github.com/pandas-dev/pandas/issues/54466\n",
      "        \n",
      "  import pandas as pd\n"
     ]
    }
   ],
   "source": [
    "import os       \n",
    "import numpy as np \n",
    "import pandas as pd\n",
    "from scipy import stats \n",
    "from statsmodels.stats.proportion import proportions_ztest\n",
    "from statsmodels.stats.proportion import binom_test"
   ]
  },
  {
   "cell_type": "markdown",
   "metadata": {},
   "source": [
    "#### 1. Project Overview\n",
    "\n",
    "This is the [final project](https://learn.udacity.com/courses/ud257/lessons/811aec6b-bd88-4da7-adb9-0fbd96e74238/concepts/5345b415-6c2f-431a-8dd5-c212bb3b7c20)\n",
    " of the course [Udacity A/B Testing by Google](https://www.udacity.com/course/ab-testing--ud257)\n"
   ]
  },
  {
   "cell_type": "markdown",
   "metadata": {},
   "source": [
    "1.1 Situation\n",
    "\n",
    "Udacity's course overview page currently presents two options to users: \n",
    "\n",
    "1. \"start free trial,\" which requires entering credit card information and enrolled in free trial of the paid version. Students will automatically be transitions into a paid subscription after 14 days unless they cancel first. \n",
    "\n",
    "2. \"Access course materials,\" which allows users to view course content and quizzes for free but without coaching support or certification. They cannot submit their final project for review either. \n",
    "\n",
    "A significant challenge has been the frustration and dropout of users who start the free trial without understanding the time commitment required, leading to dissatisfaction and cancellations."
   ]
  },
  {
   "cell_type": "markdown",
   "metadata": {},
   "source": [
    "1.2 Goal  \n",
    "\n",
    "The goal of the experiment is to ensure that users have a clear understanding of the time commitment required for the course before enrolling in the free trial. By setting clearer expectations upfront, Udacity aims to reduce the number of students who leave the free trial out of frustration, without significantly impacting the number of students who continue past the free trial and complete the course."
   ]
  },
  {
   "cell_type": "markdown",
   "metadata": {},
   "source": [
    "1.3 Treatment\n",
    "\n",
    "In the experiment, Udacity introduces an additional step in the enrollment process. When a user clicks \"start free trial,\" they are prompted to indicate the amount of time they can dedicate to the course each week. Please see the [screenshot](https://github.com/emmaliberkeley/AB-Testing-Project/blob/main/Basic_Info/Final%20Project_%20Experiment%20Screenshot.png)  on what the experiment should look like.\n",
    "\n",
    "Users who indicate 5 or more hours per week proceed to the normal checkout process, while those who indicate fewer than 5 hours receive a message highlighting the typical time requirement and suggesting they might prefer to access course materials for free. At this point, students have the option to continue enrolling in the free trial, or access the course materials for free instead."
   ]
  },
  {
   "cell_type": "markdown",
   "metadata": {},
   "source": [
    "1.4 Expected Result\n",
    "\n",
    "The expected result is a decrease in the number of users who sign up for the free trial without sufficient time to dedicate to the course, thereby reducing early dropouts and increasing the overall satisfaction of Udacity's user base. The experiment seeks to validate the hypothesis that clearer communication of course requirements will lead to an improved student experience and more efficient use of coaching resources.\n",
    "\n",
    "# TBD: a customer funnel viz"
   ]
  },
  {
   "cell_type": "markdown",
   "metadata": {},
   "source": [
    "#### 2. Experiment Setup"
   ]
  },
  {
   "cell_type": "markdown",
   "metadata": {},
   "source": [
    "2.1 Unit of Diversion\n",
    "\n",
    "The unit of diversion is a cookie, although if the student enrolls in the free trial, they are tracked by user-id from that point forward. The same user-id cannot enroll in the free trial twice. For users that do not enroll, their user-id is not tracked in the experiment, even if they were signed in when they visited the course overview page."
   ]
  },
  {
   "cell_type": "markdown",
   "metadata": {},
   "source": [
    "2.2 Hypotheses \n",
    "\n",
    "- Null Hypothesis (H0): The treatment does not influence the proportion of individuals enrolling in the free trial. \n",
    "\n",
    "- Alternative Hypothesis (H1): The treatment decreases the proportion of individuals enrolling in the free trial.\n",
    "\n",
    "- Null Hypothesis (H0): The treatment has no impact on the percentage of individuals who exit the free trial.\n",
    "\n",
    "- Alternative Hypothesis (H1): The treatment enhances the overall student experience, thereby reducing the percentage of individuals leaving the free trial.\n",
    "\n",
    "\n",
    "- Null Hypothesis (H0): The treatment does not affect the count of individuals continuing beyond the free trial.\n",
    "\n",
    "- Alternative Hypothesis (H1): The treatment influences the count of individuals who continue beyond the free trial."
   ]
  },
  {
   "cell_type": "markdown",
   "metadata": {},
   "source": [
    "2.2 Metric Choice and Practical Significance (Provided by Udacity)\n",
    "\n",
    "To test these hypotheses, we need to define appropriate evaluation metrics.\n",
    "Evaluation metrics are used to test the performance of what we care about. It could be high level business metrics or detail metrics on user experience research. Evaluation metrics should have a good balance between sensitivity and robustness, meaning being sensitive enough that they pick up the changes we care about and being robust against the changes we do not care about.\n",
    "\n",
    "We also need to define a set of invariant metrics/control variables. Invariant metrics are metrics that we expect not to change between test and control group. They will be used in the \"sanity check\" section. \n",
    "\n",
    "How many metrics do we need? For sanity checking, we need multiple metrics. For evaluation, some companies want just one metric so that different teams are working toward one goal collectively. If we have mutiple evaluation metrics, we can test each one of them, though might need adjust the alpha.  More on this in section [5. Multiple Metrics Alpha Correction?](#5-multiple-metrics-alpha-correction)). We can also create a composite metric: Objective Function or OEC(overall evaluation criterion) which is a weighed metrics of all individual metrics. OEC is not advised because need to define all of the individual metrics and may lead to confusion. \n",
    "\n",
    "What's more, we cannot implement every change that's statistically significant because of the cost of implementation or may want to wait for more substantial change. In addition to assessing statistical significance, we also consider the practical significance, denoted as 'dmin.' \n",
    "\n",
    "Udacity provides seven metrics to choose from. Additionally, the practical relevance level of each metric is given. Below is the visualization of the metrics provided, their definitions in one sentence, and the practical significance level. \n",
    "\n",
    "\n",
    "\n",
    "| Metric Name               | Definition                                                                                      | dmin |\n",
    "| ------------------------- | ----------------------------------------------------------------------------------------------- | ------------------------------- |\n",
    "| Number of cookies         | Number of unique cookies to view the course overview page.                      | 3000                            |\n",
    "| Number of user-ids        | Number of users who enroll in the free trial.                                       | 50                              |\n",
    "| Number of clicks          | Number of unique cookies to click the \"Start free trial\" button (before the screener is triggered). | 240 |\n",
    "| Click-through-probability | Number of unique cookies to click the \"Start free trial\" button divided by the number of unique cookies to view the course overview page.  | 0.01 |\n",
    "| Gross conversion          | Number of user-ids to complete checkout and enroll in the free trial divided by the number of unique cookies to click the \"Start free trial\" button.  | 0.01 |\n",
    "| Retention                 | Number of user-ids to remain enrolled past the 14-day boundary (and make at least one payment) divided by the number of user-ids who complete checkout.  | 0.01 |\n",
    "| Net conversion            | Number of user-ids to remain enrolled past the 14-day boundary (and make at least one payment) divided by the number of unique cookies to click the \"Start free trial\" button.  | 0.0075 |\n"
   ]
  },
  {
   "cell_type": "markdown",
   "metadata": {},
   "source": [
    "2.2.1 Choosing Invariant Metrics\n",
    "\n",
    "We expect the invariant metrics to NOT be significantly different between the experiment and control group. \n",
    "\n",
    "Even though the click-through-probability has already include number of cookies and number of clicks as numerator and denominator, we still want to have them included as invariant metrics. This is because when one group has a small number of cookies and clicks, while the other group has a large number of cookies and clicks, but their click-through probabilities are still the same. This is why we need multiple invariant metrics helps account for variations, ensuring a valid comparison between treatment and control groups.\n",
    "\n",
    "| Metric                   | Formula                                                             | dmin  |\n",
    "| ------------------------ | ------------------------------------------------------------------- | ----- |\n",
    "| Number of cookies        | C = # of unique daily cookies to view course overview page          | 3000  |\n",
    "| Number of clicks         | CL = # of unique daily cookies to click \"start free trial\" button   | 240   |\n",
    "| Click-through-probability| CTP = CL / C                                                        | 0.01  |\n",
    "\n"
   ]
  },
  {
   "cell_type": "markdown",
   "metadata": {},
   "source": [
    "2.2.2 Choosing Evaluation Metrics\n",
    "\n",
    "We expect the evalution metrics to be influenced by the treatment and differ between the experiment and control group.\n",
    "\n",
    "| Metric            | Formula                                   | dmin   |\n",
    "| ----------------- | -----------------------------------------| ------ |\n",
    "| Gross Conversion  | CG = (# of user-ids that enrolled) / CL  | -0.01  |\n",
    "| Retention         | R = (# of user-ids that paid) / (# of user-ids that enrolled) | 0.01   |\n",
    "| Net Conversion    | CN = (# of user-ids that paid) / CL      | 0.0075 |\n",
    "\n"
   ]
  },
  {
   "cell_type": "markdown",
   "metadata": {},
   "source": [
    "2.3 Hypotheses Restated with Evaluation Metrics\n",
    "\n",
    "H<sub>0</sub>: C<sub>G<sub>treatment</sub></sub> = C<sub>G<sub>control</sub></sub>\n",
    "H<sub>1</sub>: C<sub>G<sub>treatment</sub></sub> ≠ C<sub>G<sub>control</sub></sub>\n",
    "\n",
    "H<sub>0</sub>: R<sub>treatment</sub> = R<sub>control</sub>\n",
    "H<sub>1</sub>: R<sub>treatment</sub> ≠ R<sub>control</sub>\n",
    "\n",
    "H<sub>0</sub>: C<sub>N<sub>treatment</sub></sub> = C<sub>N<sub>control</sub></sub>\n",
    "H<sub>1</sub>: C<sub>N<sub>treatment</sub></sub> ≠ C<sub>N<sub>control</sub></sub>"
   ]
  },
  {
   "cell_type": "markdown",
   "metadata": {},
   "source": [
    "2.3 Measuring Variability "
   ]
  },
  {
   "cell_type": "markdown",
   "metadata": {},
   "source": [
    "\n",
    "If the unit of diversion is the same as the unit of analysis, then the analytical estimate of the variability is accurate. \n",
    "\n",
    "Recall \"if the unit of diversion is a cookie, although if the students enrolls in the free trial, they are tracked by user-id from that point forward.\" \n",
    "\n",
    "- Before Enrollment (Unit of Diversion: Cookie)\n",
    "- After Enrollment (Unit of Diversion: User-ID)\n",
    "\n",
    "Since the unit of diversion is the same as the unit of analysis (denominator of the metric formula) for each evaluation metric: cookie in the case of Gross Conversion and Net Conversion, user-id in the case of Retention. Besides, we can assume the binomial distribution of the metrics, we can get the variability analytically instead of empirically.\n",
    "\n",
    "We are given a sample size of 5000 cookies visiting the course overview page each day. Thus, we are going to make analytical estimate of each evaluation metric's standard error, or standard deviation of sampling distribution of the sample mean. Since all of our evaluation metrics are ratios, it's more accuarte to say standard deviation of the sampling proportion. The standard error is an estimate of how far the sample proportion is likely to be from the population proportion."
   ]
  },
  {
   "cell_type": "code",
   "execution_count": 3,
   "metadata": {},
   "outputs": [
    {
     "data": {
      "text/html": [
       "<div>\n",
       "<style scoped>\n",
       "    .dataframe tbody tr th:only-of-type {\n",
       "        vertical-align: middle;\n",
       "    }\n",
       "\n",
       "    .dataframe tbody tr th {\n",
       "        vertical-align: top;\n",
       "    }\n",
       "\n",
       "    .dataframe thead th {\n",
       "        text-align: right;\n",
       "    }\n",
       "</style>\n",
       "<table border=\"1\" class=\"dataframe\">\n",
       "  <thead>\n",
       "    <tr style=\"text-align: right;\">\n",
       "      <th></th>\n",
       "      <th>Metric</th>\n",
       "      <th>Baseline</th>\n",
       "      <th>scaled_baseline</th>\n",
       "      <th>dmin</th>\n",
       "    </tr>\n",
       "  </thead>\n",
       "  <tbody>\n",
       "    <tr>\n",
       "      <th>C</th>\n",
       "      <td>Cookies</td>\n",
       "      <td>40000</td>\n",
       "      <td>5000</td>\n",
       "      <td>3000</td>\n",
       "    </tr>\n",
       "    <tr>\n",
       "      <th>CL</th>\n",
       "      <td>Clicks</td>\n",
       "      <td>3200</td>\n",
       "      <td>400</td>\n",
       "      <td>240</td>\n",
       "    </tr>\n",
       "    <tr>\n",
       "      <th>ID</th>\n",
       "      <td>User-ids</td>\n",
       "      <td>660</td>\n",
       "      <td>82.5</td>\n",
       "      <td>-50</td>\n",
       "    </tr>\n",
       "    <tr>\n",
       "      <th>CTP</th>\n",
       "      <td>Click-through-probability</td>\n",
       "      <td>0.08</td>\n",
       "      <td>NaN</td>\n",
       "      <td>0.01</td>\n",
       "    </tr>\n",
       "    <tr>\n",
       "      <th>GC</th>\n",
       "      <td>Gross Conversion</td>\n",
       "      <td>0.20625</td>\n",
       "      <td>NaN</td>\n",
       "      <td>-0.01</td>\n",
       "    </tr>\n",
       "    <tr>\n",
       "      <th>R</th>\n",
       "      <td>Retention</td>\n",
       "      <td>0.53</td>\n",
       "      <td>NaN</td>\n",
       "      <td>0.01</td>\n",
       "    </tr>\n",
       "    <tr>\n",
       "      <th>NC</th>\n",
       "      <td>Net Conversion</td>\n",
       "      <td>0.10931</td>\n",
       "      <td>NaN</td>\n",
       "      <td>0.0075</td>\n",
       "    </tr>\n",
       "  </tbody>\n",
       "</table>\n",
       "</div>"
      ],
      "text/plain": [
       "                        Metric  Baseline  scaled_baseline   dmin\n",
       "C                      Cookies     40000             5000   3000\n",
       "CL                      Clicks      3200              400    240\n",
       "ID                    User-ids       660             82.5    -50\n",
       "CTP  Click-through-probability      0.08              NaN   0.01\n",
       "GC            Gross Conversion   0.20625              NaN  -0.01\n",
       "R                    Retention      0.53              NaN   0.01\n",
       "NC              Net Conversion   0.10931              NaN 0.0075"
      ]
     },
     "execution_count": 3,
     "metadata": {},
     "output_type": "execute_result"
    }
   ],
   "source": [
    "#The baseline values and the practical significant levels for all the metrics are given by Udacity, changed from Udacity's true numbers.\n",
    "baseline = {\"Metric\": [\"Cookies\", \"Clicks\", \"User-ids\", \"Click-through-probability\", \"Gross Conversion\", \"Retention\", \"Net Conversion\"], \n",
    "     \"Baseline\": [40000, 3200, 660, 0.08, 0.20625, 0.53, 0.109313],\n",
    "     \"dmin\": [3000, 240, -50, 0.01, -0.01, 0.01, 0.0075]}\n",
    "bs = pd.DataFrame(data=baseline, index=[\"C\", \"CL\", \"ID\", \"CTP\", \"GC\", \"R\", \"NC\"])\n",
    "bs.insert(2, \"scaled_baseline\", np.nan)\n",
    "factor = 5000/ bs.loc['C']['Baseline']\n",
    "for i in ['C', 'CL', 'ID']:\n",
    "    bs.at[i, 'scaled_baseline'] = bs.loc[i]['Baseline'] * factor\n",
    "pd.options.display.float_format = '{:.5g}'.format\n",
    "bs\n",
    "# Print the DataFrame as a table with integer formatting"
   ]
  },
  {
   "cell_type": "markdown",
   "metadata": {},
   "source": [
    "To calculate the SE, we are going to apply central limit theorm, which requires: \n",
    "- The sample size is large enough: A common guideline is that both n*p and n*(1-p) should be greater than or equal to 10.\n",
    "\n",
    "- Each event is independent and identially distributed\n",
    "\n",
    "All of the evaluation metrics have large enough sample size, so we can apply CLT\n"
   ]
  },
  {
   "cell_type": "markdown",
   "metadata": {},
   "source": [
    "To calculate the SE:\n",
    "\n",
    "The standard error (SE) is given by:\n",
    "\n",
    "SE = $\\sqrt{\\frac{\\hat{p}(1 - \\hat{p})}{n}}$\n",
    "\n",
    "Where $\\hat{p}(1 - \\hat{p})$ is the estimated population standard deviation."
   ]
  },
  {
   "cell_type": "code",
   "execution_count": 4,
   "metadata": {},
   "outputs": [
    {
     "data": {
      "text/html": [
       "<div>\n",
       "<style scoped>\n",
       "    .dataframe tbody tr th:only-of-type {\n",
       "        vertical-align: middle;\n",
       "    }\n",
       "\n",
       "    .dataframe tbody tr th {\n",
       "        vertical-align: top;\n",
       "    }\n",
       "\n",
       "    .dataframe thead th {\n",
       "        text-align: right;\n",
       "    }\n",
       "</style>\n",
       "<table border=\"1\" class=\"dataframe\">\n",
       "  <thead>\n",
       "    <tr style=\"text-align: right;\">\n",
       "      <th></th>\n",
       "      <th>Metric</th>\n",
       "      <th>Baseline</th>\n",
       "      <th>scaled_baseline</th>\n",
       "      <th>dmin</th>\n",
       "      <th>SE</th>\n",
       "    </tr>\n",
       "  </thead>\n",
       "  <tbody>\n",
       "    <tr>\n",
       "      <th>C</th>\n",
       "      <td>Cookies</td>\n",
       "      <td>40000</td>\n",
       "      <td>5000</td>\n",
       "      <td>3000</td>\n",
       "      <td>NaN</td>\n",
       "    </tr>\n",
       "    <tr>\n",
       "      <th>CL</th>\n",
       "      <td>Clicks</td>\n",
       "      <td>3200</td>\n",
       "      <td>400</td>\n",
       "      <td>240</td>\n",
       "      <td>NaN</td>\n",
       "    </tr>\n",
       "    <tr>\n",
       "      <th>ID</th>\n",
       "      <td>User-ids</td>\n",
       "      <td>660</td>\n",
       "      <td>82.5</td>\n",
       "      <td>-50</td>\n",
       "      <td>NaN</td>\n",
       "    </tr>\n",
       "    <tr>\n",
       "      <th>CTP</th>\n",
       "      <td>Click-through-probability</td>\n",
       "      <td>0.08</td>\n",
       "      <td>NaN</td>\n",
       "      <td>0.01</td>\n",
       "      <td>NaN</td>\n",
       "    </tr>\n",
       "    <tr>\n",
       "      <th>GC</th>\n",
       "      <td>Gross Conversion</td>\n",
       "      <td>0.20625</td>\n",
       "      <td>NaN</td>\n",
       "      <td>-0.01</td>\n",
       "      <td>0.020231</td>\n",
       "    </tr>\n",
       "    <tr>\n",
       "      <th>R</th>\n",
       "      <td>Retention</td>\n",
       "      <td>0.53</td>\n",
       "      <td>NaN</td>\n",
       "      <td>0.01</td>\n",
       "      <td>0.054949</td>\n",
       "    </tr>\n",
       "    <tr>\n",
       "      <th>NC</th>\n",
       "      <td>Net Conversion</td>\n",
       "      <td>0.10931</td>\n",
       "      <td>NaN</td>\n",
       "      <td>0.0075</td>\n",
       "      <td>0.015602</td>\n",
       "    </tr>\n",
       "  </tbody>\n",
       "</table>\n",
       "</div>"
      ],
      "text/plain": [
       "                        Metric  Baseline  scaled_baseline   dmin       SE\n",
       "C                      Cookies     40000             5000   3000      NaN\n",
       "CL                      Clicks      3200              400    240      NaN\n",
       "ID                    User-ids       660             82.5    -50      NaN\n",
       "CTP  Click-through-probability      0.08              NaN   0.01      NaN\n",
       "GC            Gross Conversion   0.20625              NaN  -0.01 0.020231\n",
       "R                    Retention      0.53              NaN   0.01 0.054949\n",
       "NC              Net Conversion   0.10931              NaN 0.0075 0.015602"
      ]
     },
     "execution_count": 4,
     "metadata": {},
     "output_type": "execute_result"
    }
   ],
   "source": [
    "bs[\"SE\"] = np.NaN\n",
    "def se (n, p):\n",
    "    '''Return Standard Error'''\n",
    "    return (p*(1-p)/n)**0.5\n",
    "for i in ['GC', 'NC']:\n",
    "    bs.at[i, \"SE\"] = se(bs.loc[\"CL\"][\"scaled_baseline\"], bs.loc[i][\"Baseline\"]) \n",
    "bs.at[\"R\", \"SE\"] = se(bs.loc[\"ID\"][\"scaled_baseline\"], bs.loc[\"R\"][\"Baseline\"])\n",
    "bs "
   ]
  },
  {
   "cell_type": "markdown",
   "metadata": {},
   "source": [
    "#### 3. Sizing"
   ]
  },
  {
   "cell_type": "markdown",
   "metadata": {},
   "source": [
    "3.1 Alpha and Beta Set Up"
   ]
  },
  {
   "cell_type": "code",
   "execution_count": 5,
   "metadata": {},
   "outputs": [
    {
     "name": "stdout",
     "output_type": "stream",
     "text": [
      "Alpha: 0.05\n",
      "Beta: 0.2\n"
     ]
    }
   ],
   "source": [
    "# Define a dictionary to store alpha and beta values\n",
    "alpha_beta_dict = {\n",
    "    'alpha': 0.05,\n",
    "    'beta': 0.20\n",
    "}\n",
    "alpha_value = alpha_beta_dict['alpha']\n",
    "beta_value = alpha_beta_dict['beta']\n",
    "print(f'Alpha: {alpha_value}')\n",
    "print(f'Beta: {beta_value}')"
   ]
  },
  {
   "cell_type": "markdown",
   "metadata": {},
   "source": [
    "3.2 Sample Size in Pageview"
   ]
  },
  {
   "cell_type": "markdown",
   "metadata": {},
   "source": [
    "We will use the [Evan's sample size calculator](https://www.evanmiller.org/ab-testing/sample-size.html). When we calculate the experiment sample size we have to keep in mind that n gives us the sample size per group. In A/B testing, we have two groups, thus the final number should be doubled. \n",
    "\n",
    "We want to calculate the experiment sample size in terms of cookies that visit the page. Thus, we also need to account for the circumstance that our evaluation metrics' units of analysis are clicks and user-ids, respectively.\n",
    "\n",
    "\n",
    "$\\text{Sample Size}_{\\text{GC or NC}} = \\left( \\frac{n_{\\text{Evan's}}}{\\text{CTP}} \\right) \\times 2$\n",
    "\n",
    "$\\text{Sample Size}_{\\text{R}} = \\left( \\frac{\\frac{n_{\\text{Evan's}}}{\\text{CTP}}}{\\text{GC}} \\right) \\times 2$\n",
    "\n",
    "Where ${n_{\\text{Evan's}}}$ is the output from Evan's sample size calculator.\n",
    "\n",
    "There are four key factors in determining the sample size:\n",
    "1. Baseline Conversion Rate\n",
    "2. Minimum Detectable Effect\n",
    "3. Statistical Power: 1-$\\beta$\n",
    "4. Significance level: $\\alpha$"
   ]
  },
  {
   "cell_type": "code",
   "execution_count": 6,
   "metadata": {},
   "outputs": [
    {
     "name": "stderr",
     "output_type": "stream",
     "text": [
      "/var/folders/8p/w4d0t_mn00l0f0frhkrgm17m0000gq/T/ipykernel_45039/121305233.py:4: FutureWarning: Setting an item of incompatible dtype is deprecated and will raise an error in a future version of pandas. Value '645,875' has dtype incompatible with float64, please explicitly cast to a compatible dtype first.\n",
      "  bs.at[[\"GC\", \"R\", \"NC\"][i], \"sample_size\"] = total_sample_size[i]\n"
     ]
    },
    {
     "data": {
      "text/html": [
       "<div>\n",
       "<style scoped>\n",
       "    .dataframe tbody tr th:only-of-type {\n",
       "        vertical-align: middle;\n",
       "    }\n",
       "\n",
       "    .dataframe tbody tr th {\n",
       "        vertical-align: top;\n",
       "    }\n",
       "\n",
       "    .dataframe thead th {\n",
       "        text-align: right;\n",
       "    }\n",
       "</style>\n",
       "<table border=\"1\" class=\"dataframe\">\n",
       "  <thead>\n",
       "    <tr style=\"text-align: right;\">\n",
       "      <th></th>\n",
       "      <th>Metric</th>\n",
       "      <th>Baseline</th>\n",
       "      <th>scaled_baseline</th>\n",
       "      <th>dmin</th>\n",
       "      <th>SE</th>\n",
       "      <th>sample_size</th>\n",
       "    </tr>\n",
       "  </thead>\n",
       "  <tbody>\n",
       "    <tr>\n",
       "      <th>C</th>\n",
       "      <td>Cookies</td>\n",
       "      <td>40000</td>\n",
       "      <td>5000</td>\n",
       "      <td>3000</td>\n",
       "      <td>NaN</td>\n",
       "      <td>NaN</td>\n",
       "    </tr>\n",
       "    <tr>\n",
       "      <th>CL</th>\n",
       "      <td>Clicks</td>\n",
       "      <td>3200</td>\n",
       "      <td>400</td>\n",
       "      <td>240</td>\n",
       "      <td>NaN</td>\n",
       "      <td>NaN</td>\n",
       "    </tr>\n",
       "    <tr>\n",
       "      <th>ID</th>\n",
       "      <td>User-ids</td>\n",
       "      <td>660</td>\n",
       "      <td>82.5</td>\n",
       "      <td>-50</td>\n",
       "      <td>NaN</td>\n",
       "      <td>NaN</td>\n",
       "    </tr>\n",
       "    <tr>\n",
       "      <th>CTP</th>\n",
       "      <td>Click-through-probability</td>\n",
       "      <td>0.08</td>\n",
       "      <td>NaN</td>\n",
       "      <td>0.01</td>\n",
       "      <td>NaN</td>\n",
       "      <td>NaN</td>\n",
       "    </tr>\n",
       "    <tr>\n",
       "      <th>GC</th>\n",
       "      <td>Gross Conversion</td>\n",
       "      <td>0.20625</td>\n",
       "      <td>NaN</td>\n",
       "      <td>-0.01</td>\n",
       "      <td>0.020231</td>\n",
       "      <td>645,875</td>\n",
       "    </tr>\n",
       "    <tr>\n",
       "      <th>R</th>\n",
       "      <td>Retention</td>\n",
       "      <td>0.53</td>\n",
       "      <td>NaN</td>\n",
       "      <td>0.01</td>\n",
       "      <td>0.054949</td>\n",
       "      <td>4,741,212</td>\n",
       "    </tr>\n",
       "    <tr>\n",
       "      <th>NC</th>\n",
       "      <td>Net Conversion</td>\n",
       "      <td>0.10931</td>\n",
       "      <td>NaN</td>\n",
       "      <td>0.0075</td>\n",
       "      <td>0.015602</td>\n",
       "      <td>685,325</td>\n",
       "    </tr>\n",
       "  </tbody>\n",
       "</table>\n",
       "</div>"
      ],
      "text/plain": [
       "                        Metric  Baseline  scaled_baseline   dmin       SE  \\\n",
       "C                      Cookies     40000             5000   3000      NaN   \n",
       "CL                      Clicks      3200              400    240      NaN   \n",
       "ID                    User-ids       660             82.5    -50      NaN   \n",
       "CTP  Click-through-probability      0.08              NaN   0.01      NaN   \n",
       "GC            Gross Conversion   0.20625              NaN  -0.01 0.020231   \n",
       "R                    Retention      0.53              NaN   0.01 0.054949   \n",
       "NC              Net Conversion   0.10931              NaN 0.0075 0.015602   \n",
       "\n",
       "    sample_size  \n",
       "C           NaN  \n",
       "CL          NaN  \n",
       "ID          NaN  \n",
       "CTP         NaN  \n",
       "GC      645,875  \n",
       "R     4,741,212  \n",
       "NC      685,325  "
      ]
     },
     "execution_count": 6,
     "metadata": {},
     "output_type": "execute_result"
    }
   ],
   "source": [
    "bs[\"sample_size\"] = np.nan\n",
    "total_sample_size = [\"645,875\", \"4,741,212\", \"685,325\"]\n",
    "for i in range(len([\"GC\", \"R\", \"NC\"])):\n",
    "    bs.at[[\"GC\", \"R\", \"NC\"][i], \"sample_size\"] = total_sample_size[i]\n",
    "bs"
   ]
  },
  {
   "cell_type": "markdown",
   "metadata": {},
   "source": [
    "If we want to test the three hypotheses from section 2.3, \n",
    "We need 645,875 pageviews with Gross Conversion; 4,741,212 pageviews with Retention; 685,325 pageview with Net Conversion. \n",
    "\n",
    "Given our estimation that there are 40,000 unique pageviews per day, 4,741,212 is too large. If we want to test the second hypothesis, we need to run on all traffic for 119 days. \n",
    "\n",
    "Thus, we are going to test hypothesis 1 and 3 with metrics GG and NC. We conclude that we need 685,325 pageviews to run the experiment.  "
   ]
  },
  {
   "cell_type": "markdown",
   "metadata": {},
   "source": [
    "#### 4. Exposure and Duration\n",
    "Our goal is to ensure that the experiment is executed efficiently and doesn't extend beyond a few weeks in duration. Additionally, given that the experiment doesn't involve any high-risk features or aspects that could lead to significant media attention, we are comfortable directing a substantial portion of our traffic toward it. However, because there's always a possibility of unexpected issues during the implementation phase, we may choose not to allocate our entire traffic volume to the experiment. We want around 50% of the traffic exposure. \n",
    "\n",
    "Another important factor to take into account is the variation in website visitor behavior between weekdays and weekends. Thus, we should aim for an experiment duration that is a multiple of 7 days. With 685,325 pagesviews as sample size and 40,000 as the total number of pageviews per day, we choose 35 days as the final duration, or 5 weeks.\n",
    "\n",
    "- Final number of pageviews: at least 685,325\n",
    "- Duration in days: 35\n",
    "- Fraction of traffic: 49%"
   ]
  },
  {
   "cell_type": "markdown",
   "metadata": {},
   "source": [
    "#### 5. Multiple Metrics Alpha Correction?"
   ]
  },
  {
   "cell_type": "markdown",
   "metadata": {},
   "source": [
    "With multiple hypotheses at play, the risk of encountering false positives increases. However, since our metrics are not entirely independent, the actual probability of false positives remains below the 9.75% threshold for independent metrics. While we could use methods like Bonferroni or false discovery rate to address multiple hypotheses, these approaches have their limitations, including the potential for more false negatives. Given the slightly elevated risk of false positives in this case, we've chosen not to implement strict control measures for multiple hypotheses. \n",
    "\n",
    "If the metrics are independent, $\\\n",
    "\\text{Actual Probability of False Positive} = 1 - (1 - \\alpha)^n$, where n is the number of evaluation metrics. \n",
    "\n",
    "In our case, $1 - (1 - 0.05)^2 = 9.75\\%$\n",
    "\n",
    "\n",
    "\n",
    "\n"
   ]
  },
  {
   "cell_type": "markdown",
   "metadata": {},
   "source": [
    "#### 6. Data Analysis"
   ]
  },
  {
   "cell_type": "markdown",
   "metadata": {},
   "source": [
    "6.1 EDA"
   ]
  },
  {
   "cell_type": "code",
   "execution_count": 7,
   "metadata": {},
   "outputs": [
    {
     "name": "stdout",
     "output_type": "stream",
     "text": [
      "experiment_results.xlsx\n",
      "control_results.xlsx\n"
     ]
    }
   ],
   "source": [
    "directory_path = '/Users/emmababe/Documents/AB-Testing-Project/Results'\n",
    "\n",
    "for dirname, _, filenames in os.walk(directory_path):\n",
    "    for filename in filenames:\n",
    "        print(filename)"
   ]
  },
  {
   "cell_type": "code",
   "execution_count": 8,
   "metadata": {},
   "outputs": [
    {
     "data": {
      "text/html": [
       "<div>\n",
       "<style scoped>\n",
       "    .dataframe tbody tr th:only-of-type {\n",
       "        vertical-align: middle;\n",
       "    }\n",
       "\n",
       "    .dataframe tbody tr th {\n",
       "        vertical-align: top;\n",
       "    }\n",
       "\n",
       "    .dataframe thead th {\n",
       "        text-align: right;\n",
       "    }\n",
       "</style>\n",
       "<table border=\"1\" class=\"dataframe\">\n",
       "  <thead>\n",
       "    <tr style=\"text-align: right;\">\n",
       "      <th></th>\n",
       "      <th>Date</th>\n",
       "      <th>Pageviews</th>\n",
       "      <th>Clicks</th>\n",
       "      <th>Enrollments</th>\n",
       "      <th>Payments</th>\n",
       "    </tr>\n",
       "  </thead>\n",
       "  <tbody>\n",
       "    <tr>\n",
       "      <th>0</th>\n",
       "      <td>Sat, Oct 11</td>\n",
       "      <td>7723</td>\n",
       "      <td>687</td>\n",
       "      <td>134</td>\n",
       "      <td>70</td>\n",
       "    </tr>\n",
       "    <tr>\n",
       "      <th>1</th>\n",
       "      <td>Sun, Oct 12</td>\n",
       "      <td>9102</td>\n",
       "      <td>779</td>\n",
       "      <td>147</td>\n",
       "      <td>70</td>\n",
       "    </tr>\n",
       "    <tr>\n",
       "      <th>2</th>\n",
       "      <td>Mon, Oct 13</td>\n",
       "      <td>10511</td>\n",
       "      <td>909</td>\n",
       "      <td>167</td>\n",
       "      <td>95</td>\n",
       "    </tr>\n",
       "    <tr>\n",
       "      <th>3</th>\n",
       "      <td>Tue, Oct 14</td>\n",
       "      <td>9871</td>\n",
       "      <td>836</td>\n",
       "      <td>156</td>\n",
       "      <td>105</td>\n",
       "    </tr>\n",
       "    <tr>\n",
       "      <th>4</th>\n",
       "      <td>Wed, Oct 15</td>\n",
       "      <td>10014</td>\n",
       "      <td>837</td>\n",
       "      <td>163</td>\n",
       "      <td>64</td>\n",
       "    </tr>\n",
       "  </tbody>\n",
       "</table>\n",
       "</div>"
      ],
      "text/plain": [
       "          Date  Pageviews  Clicks  Enrollments  Payments\n",
       "0  Sat, Oct 11       7723     687          134        70\n",
       "1  Sun, Oct 12       9102     779          147        70\n",
       "2  Mon, Oct 13      10511     909          167        95\n",
       "3  Tue, Oct 14       9871     836          156       105\n",
       "4  Wed, Oct 15      10014     837          163        64"
      ]
     },
     "execution_count": 8,
     "metadata": {},
     "output_type": "execute_result"
    }
   ],
   "source": [
    "control = pd.read_excel('/Users/emmababe/Documents/AB-Testing-Project/Results/control_results.xlsx')\n",
    "control.head()"
   ]
  },
  {
   "cell_type": "code",
   "execution_count": 9,
   "metadata": {},
   "outputs": [
    {
     "data": {
      "text/html": [
       "<div>\n",
       "<style scoped>\n",
       "    .dataframe tbody tr th:only-of-type {\n",
       "        vertical-align: middle;\n",
       "    }\n",
       "\n",
       "    .dataframe tbody tr th {\n",
       "        vertical-align: top;\n",
       "    }\n",
       "\n",
       "    .dataframe thead th {\n",
       "        text-align: right;\n",
       "    }\n",
       "</style>\n",
       "<table border=\"1\" class=\"dataframe\">\n",
       "  <thead>\n",
       "    <tr style=\"text-align: right;\">\n",
       "      <th></th>\n",
       "      <th>Date</th>\n",
       "      <th>Pageviews</th>\n",
       "      <th>Clicks</th>\n",
       "      <th>Enrollments</th>\n",
       "      <th>Payments</th>\n",
       "    </tr>\n",
       "  </thead>\n",
       "  <tbody>\n",
       "    <tr>\n",
       "      <th>0</th>\n",
       "      <td>Sat, Oct 11</td>\n",
       "      <td>7716</td>\n",
       "      <td>686</td>\n",
       "      <td>105</td>\n",
       "      <td>34</td>\n",
       "    </tr>\n",
       "    <tr>\n",
       "      <th>1</th>\n",
       "      <td>Sun, Oct 12</td>\n",
       "      <td>9288</td>\n",
       "      <td>785</td>\n",
       "      <td>116</td>\n",
       "      <td>91</td>\n",
       "    </tr>\n",
       "    <tr>\n",
       "      <th>2</th>\n",
       "      <td>Mon, Oct 13</td>\n",
       "      <td>10480</td>\n",
       "      <td>884</td>\n",
       "      <td>145</td>\n",
       "      <td>79</td>\n",
       "    </tr>\n",
       "    <tr>\n",
       "      <th>3</th>\n",
       "      <td>Tue, Oct 14</td>\n",
       "      <td>9867</td>\n",
       "      <td>827</td>\n",
       "      <td>138</td>\n",
       "      <td>92</td>\n",
       "    </tr>\n",
       "    <tr>\n",
       "      <th>4</th>\n",
       "      <td>Wed, Oct 15</td>\n",
       "      <td>9793</td>\n",
       "      <td>832</td>\n",
       "      <td>140</td>\n",
       "      <td>94</td>\n",
       "    </tr>\n",
       "  </tbody>\n",
       "</table>\n",
       "</div>"
      ],
      "text/plain": [
       "          Date  Pageviews  Clicks  Enrollments  Payments\n",
       "0  Sat, Oct 11       7716     686          105        34\n",
       "1  Sun, Oct 12       9288     785          116        91\n",
       "2  Mon, Oct 13      10480     884          145        79\n",
       "3  Tue, Oct 14       9867     827          138        92\n",
       "4  Wed, Oct 15       9793     832          140        94"
      ]
     },
     "execution_count": 9,
     "metadata": {},
     "output_type": "execute_result"
    }
   ],
   "source": [
    "experiment = pd.read_excel('/Users/emmababe/Documents/AB-Testing-Project/Results/experiment_results.xlsx')\n",
    "experiment.head()"
   ]
  },
  {
   "cell_type": "code",
   "execution_count": 10,
   "metadata": {},
   "outputs": [
    {
     "name": "stdout",
     "output_type": "stream",
     "text": [
      "The sample size is 690203\n",
      "The minimum sample size is 685325\n",
      "Sample size greater than minimum sample requirement: True\n"
     ]
    }
   ],
   "source": [
    "#check the sample_size it make sure it is above \n",
    "sample_size_control = control[\"Pageviews\"].sum()\n",
    "sample_size_experiment = experiment[\"Pageviews\"].sum()\n",
    "sample_size = sample_size_control+sample_size_experiment\n",
    "sample_min = 685325\n",
    "sample_size\n",
    "print(f'The sample size is {sample_size}')\n",
    "print(f'The minimum sample size is {sample_min}')\n",
    "print(f'Sample size greater than minimum sample requirement: {sample_size > sample_min}')"
   ]
  },
  {
   "cell_type": "markdown",
   "metadata": {},
   "source": [
    "6.2 Sanity Check"
   ]
  },
  {
   "cell_type": "markdown",
   "metadata": {},
   "source": [
    "As stated in section 2.2.1, three invarient metrics are number of cookies, number of clicks, and click through probability. \n",
    "we would expect that these metrics do not differ significantly between control and treatment group. "
   ]
  },
  {
   "cell_type": "markdown",
   "metadata": {},
   "source": [
    "6.2.1 Sanity Check Part 1: number of cookies and number of clicks\n"
   ]
  },
  {
   "cell_type": "markdown",
   "metadata": {},
   "source": [
    "If we treat a cookie being assigned to the control as a success, then the number of successes should follow a binomial distribution with 50% probabiliyt of success because a cookie should have 50-50 chance of being assigned to either treatment or control group. The same applies to the number of clicks. \n",
    "Since the n here is large enough, and each event is independent and identically distributed, we can assume that the sampling distribution of the sample proportion follows a normal distribution according to CLT. \n",
    "There are two ways to do the sanity check: 1. use CLT to get the confidence interval (used in this project), one-proportion z-test; 2. Use exact binomial test to calculate the probability of observing the exact number of successes or more extreme outcomes on both sides of the distribution."
   ]
  },
  {
   "cell_type": "markdown",
   "metadata": {},
   "source": [
    "Side note with the CLT approach\n",
    "Usually we should calculate the confidence interval with p_hat +/- margin of error because we do not the true probability. But here, We know that if the experiment is set up properly, the true probability is 0.5. Thus, we will use 0.5 +/- margin of error. Then if the p_hat is not in the CL, we reject the null. In most empirical experiment, the p (true population proportion) is unknown. "
   ]
  },
  {
   "cell_type": "code",
   "execution_count": 17,
   "metadata": {},
   "outputs": [
    {
     "data": {
      "text/html": [
       "<div>\n",
       "<style scoped>\n",
       "    .dataframe tbody tr th:only-of-type {\n",
       "        vertical-align: middle;\n",
       "    }\n",
       "\n",
       "    .dataframe tbody tr th {\n",
       "        vertical-align: top;\n",
       "    }\n",
       "\n",
       "    .dataframe thead th {\n",
       "        text-align: right;\n",
       "    }\n",
       "</style>\n",
       "<table border=\"1\" class=\"dataframe\">\n",
       "  <thead>\n",
       "    <tr style=\"text-align: right;\">\n",
       "      <th></th>\n",
       "      <th>CI_left</th>\n",
       "      <th>CI_right</th>\n",
       "      <th>p_hat</th>\n",
       "      <th>passed?</th>\n",
       "    </tr>\n",
       "  </thead>\n",
       "  <tbody>\n",
       "    <tr>\n",
       "      <th>Cookies</th>\n",
       "      <td>0.49882</td>\n",
       "      <td>0.50118</td>\n",
       "      <td>0.5006</td>\n",
       "      <td>yes</td>\n",
       "    </tr>\n",
       "    <tr>\n",
       "      <th>Clicks</th>\n",
       "      <td>0.49588</td>\n",
       "      <td>0.50412</td>\n",
       "      <td>0.5005</td>\n",
       "      <td>yes</td>\n",
       "    </tr>\n",
       "    <tr>\n",
       "      <th>CTP</th>\n",
       "      <td>NaN</td>\n",
       "      <td>NaN</td>\n",
       "      <td>NaN</td>\n",
       "      <td>NaN</td>\n",
       "    </tr>\n",
       "  </tbody>\n",
       "</table>\n",
       "</div>"
      ],
      "text/plain": [
       "        CI_left CI_right  p_hat passed?\n",
       "Cookies 0.49882  0.50118 0.5006     yes\n",
       "Clicks  0.49588  0.50412 0.5005     yes\n",
       "CTP         NaN      NaN    NaN     NaN"
      ]
     },
     "execution_count": 17,
     "metadata": {},
     "output_type": "execute_result"
    }
   ],
   "source": [
    "from scipy import stats\n",
    "#1. Apply CLT to get the confidence interval and see if the observed value falls into the confidence interval\n",
    "sanity_check = pd.DataFrame(columns=[\"CI_left\", \"CI_right\", \"p_hat\",\"passed?\"], index=[\"Cookies\", \"Clicks\", \"CTP\"])\n",
    "\n",
    "#set alpha and p_hat\n",
    "p = 0.5\n",
    "alpha = 0.05\n",
    "\n",
    "def standardError (n, p):\n",
    "    '''Return the standard deviation for a given probability p and sample size n'''\n",
    "    return (p*(1-p)/n)**0.5\n",
    "\n",
    "for i,j in zip([\"Cookies\", \"Clicks\"], [\"Pageviews\", \"Clicks\"]):\n",
    "    #calculate the number of successes (n_control) and number of observations (n)\n",
    "    n = control[j].sum()+experiment[j].sum()\n",
    "    n_control = control[j].sum()\n",
    "    \n",
    "    #compute confidence interval\n",
    "    sanity_check.at[i, \"CI_left\"] = p-(stats.norm.ppf(1-alpha/2)*standardError(n,p))\n",
    "    sanity_check.at[i, \"CI_right\"] = p+(stats.norm.ppf(1-alpha/2)*standardError(n,p))\n",
    "    \n",
    "    #compute observed fraction of successes\n",
    "    sanity_check.at[i, \"p_hat\"] = round(n_control/(n),4)\n",
    "    \n",
    "    #check if the observed fraction of successes lies within the 95% confidence interval\n",
    "    if sanity_check.at[i, \"CI_left\"] <= sanity_check.at[i, \"p_hat\"] <= sanity_check.at[i, \"CI_right\"]:\n",
    "        sanity_check.at[i, \"passed?\"] = \"yes\"\n",
    "    else:\n",
    "        sanity_check.at[i, \"passed?\"] = \"no\"\n",
    "\n",
    "#return results\n",
    "sanity_check"
   ]
  },
  {
   "cell_type": "markdown",
   "metadata": {},
   "source": [
    "6.2.2 Sanity Check Part 2: click-through probability"
   ]
  },
  {
   "cell_type": "markdown",
   "metadata": {},
   "source": [
    "We use two-proportion z-test to check if the CTP pass the sanity check. The  difference of the two metrics is 0.\n",
    "\n",
    "$CI = \\left[0 - Z_{1-\\alpha/2} \\cdot SE; 0 + Z_{1-\\alpha/2} \\cdot SE\\right]$\n",
    "\n",
    "In this project we use the second way of calculating SE_pooled shown down below because the SDs of the experiment and control group are different. \n",
    "\n",
    "$\\\n",
    "SE_{\\text{pooled}} = \\sqrt{\\frac{SD_1^2}{n_1} + \\frac{SD_2^2}{n_2}}\n",
    "$\n",
    "\n",
    "$SD = \\sqrt{p \\cdot (1-p)}$\n",
    "\n",
    "$p_{\\text{Clicks}} = \\frac{n_{\\text{Clicks}}}{n_{\\text{Cookies}}}$\n",
    "\n",
    "$d_\\text{hat} = CTP_{\\text{experiment}} - CTP_{\\text{control}}$\n",
    "\n",
    "\n",
    "\n"
   ]
  },
  {
   "cell_type": "markdown",
   "metadata": {},
   "source": [
    "What type of SE_pooled to use?\n",
    "1. When comparing proportions between two groups, such as in two-sample z-test for proportions or a confidence interval for difference in proportions. Assume two samples have similar SD.\n",
    "\n",
    "    $\\\n",
    "SE_{\\text{pooled}} = \\sqrt{p_{\\text{pooled}} \\cdot (1 - p_{\\text{pooled}}) \\cdot \\left(\\frac{1}{n_1} + \\frac{1}{n_2}\\right)}$\n",
    "\n",
    "2. When dealing with continuous data and comparing means between two groups, assuming different SD between two groups.\n",
    "\n",
    "    $\\\n",
    "SE_{\\text{pooled}} = \\sqrt{\\frac{SD_1^2}{n_1} + \\frac{SD_2^2}{n_2}}\n",
    "$\n",
    "\n",
    "    $\\\n",
    "z = \\frac{(p_{\\text{hat}1} - p_{\\text{hat}2})}{\\sqrt{\\frac{p_{\\text{hat}1} \\times (1 - p_{\\text{hat}1})}{n_1} + \\frac{p_{\\text{hat}2} \\times (1 - p_{\\text{hat}2})}{n_2}}}$\n",
    "\n",
    "\n"
   ]
  },
  {
   "cell_type": "code",
   "execution_count": 20,
   "metadata": {},
   "outputs": [
    {
     "data": {
      "text/html": [
       "<div>\n",
       "<style scoped>\n",
       "    .dataframe tbody tr th:only-of-type {\n",
       "        vertical-align: middle;\n",
       "    }\n",
       "\n",
       "    .dataframe tbody tr th {\n",
       "        vertical-align: top;\n",
       "    }\n",
       "\n",
       "    .dataframe thead th {\n",
       "        text-align: right;\n",
       "    }\n",
       "</style>\n",
       "<table border=\"1\" class=\"dataframe\">\n",
       "  <thead>\n",
       "    <tr style=\"text-align: right;\">\n",
       "      <th></th>\n",
       "      <th>CI_left</th>\n",
       "      <th>CI_right</th>\n",
       "      <th>p_hat</th>\n",
       "      <th>passed?</th>\n",
       "    </tr>\n",
       "  </thead>\n",
       "  <tbody>\n",
       "    <tr>\n",
       "      <th>Cookies</th>\n",
       "      <td>0.49882</td>\n",
       "      <td>0.50118</td>\n",
       "      <td>0.5006</td>\n",
       "      <td>yes</td>\n",
       "    </tr>\n",
       "    <tr>\n",
       "      <th>Clicks</th>\n",
       "      <td>0.49588</td>\n",
       "      <td>0.50412</td>\n",
       "      <td>0.5005</td>\n",
       "      <td>yes</td>\n",
       "    </tr>\n",
       "    <tr>\n",
       "      <th>CTP</th>\n",
       "      <td>-0.0012957</td>\n",
       "      <td>0.0012957</td>\n",
       "      <td>0.0001</td>\n",
       "      <td>yes</td>\n",
       "    </tr>\n",
       "  </tbody>\n",
       "</table>\n",
       "</div>"
      ],
      "text/plain": [
       "           CI_left  CI_right  p_hat passed?\n",
       "Cookies    0.49882   0.50118 0.5006     yes\n",
       "Clicks     0.49588   0.50412 0.5005     yes\n",
       "CTP     -0.0012957 0.0012957 0.0001     yes"
      ]
     },
     "execution_count": 20,
     "metadata": {},
     "output_type": "execute_result"
    }
   ],
   "source": [
    "#compute CTP for both groups\n",
    "CTP_control = control[\"Clicks\"].sum()/control[\"Pageviews\"].sum()\n",
    "CTP_experiment = experiment[\"Clicks\"].sum()/experiment[\"Pageviews\"].sum()\n",
    "\n",
    "#compute sample standard deviations for both groups\n",
    "S_control = (CTP_control*(1-CTP_control))**0.5\n",
    "S_experiment = (CTP_experiment*(1-CTP_experiment))**0.5\n",
    "\n",
    "#compute SE_pooled\n",
    "SE_pooled = (S_control**2/control[\"Pageviews\"].sum()+S_experiment**2/experiment[\"Pageviews\"].sum())**0.5\n",
    "\n",
    "#compute 95% confidence interval and store it in sanity check\n",
    "alpha = 0.05\n",
    "\n",
    "sanity_check.at[\"CTP\", \"CI_left\"] = 0-(stats.norm.ppf(1-alpha/2)*SE_pooled)\n",
    "sanity_check.at[\"CTP\", \"CI_right\"] = 0+(stats.norm.ppf(1-alpha/2)*SE_pooled)\n",
    "\n",
    "#compute observed difference d and store it in sanity check\n",
    "sanity_check.at[\"CTP\", \"p_hat\"] = round(CTP_experiment - CTP_control,4)\n",
    "\n",
    "#check if sanity check is passed\n",
    "if sanity_check.at[\"CTP\", \"CI_left\"] <= sanity_check.at[\"CTP\", \"p_hat\"] <= sanity_check.at[\"CTP\", \"CI_right\"]:\n",
    "    sanity_check.at[\"CTP\", \"passed?\"] = \"yes\"\n",
    "else:\n",
    "    sanity_check.at[\"CTP\", \"passed?\"] = \"no\"\n",
    "\n",
    "#return results\n",
    "sanity_check"
   ]
  },
  {
   "cell_type": "markdown",
   "metadata": {},
   "source": [
    "6.3 Effect Size Testing\n"
   ]
  },
  {
   "cell_type": "markdown",
   "metadata": {},
   "source": [
    "Based on the hypothses from section 2.3, we will test the following two sets of hypotheses:\n",
    "1. - $H_\\text{0}: GC_{\\text{control}} = GC_{\\text{experiment}}$\n",
    "   - $H_\\text{1}: GC_{\\text{control}} \\neq GC_{\\text{experiment}}$\n",
    "\n",
    "2. - $H_\\text{0}: NC_{\\text{control}} = NC_{\\text{experiment}}$\n",
    "   - $H_\\text{1}: NC_{\\text{control}} \\neq NC_{\\text{experiment}}$\n",
    "\n",
    "\n"
   ]
  },
  {
   "cell_type": "markdown",
   "metadata": {},
   "source": [
    "#### 7. Interpretation & Recommendation\n",
    "The original question is about \"How to reduce early cancellations?\" In anther word, the goal it to increase the number of students sticking to the end of the course, which translate to better student (user) experience without sacraficing the revenue (total numebr of payments). In fact, the user experience and revenue can increase at the same time through one strategy: increasing the coaching capacity. By investing in more coaching resources, students will have sufficent coaching support to help them stay longer at each course, which increases the number of payments. At the same time, with more support and better user experience, Udacity can build up a positive brand image and the word-of-mouth effect will attract more students to enroll and convert to payment users. That will be a win, win, win situation. \n",
    "\n",
    "One drawback of the \"Free Trial Screener\" treatment is that it will discourage low commitment students from becoming a paied user. Those students may not have immediate commitment but they still hope that after they invest in the course, they will be more motivated to take the course. This is similar to the gym memebership situation where people like to buy gym membership especially during New Year to motivate them to keep working out. Essentially, there are two types of students. One type is they need to get the course certificate, so they pay and finish the course. The other type is they need a motivation to study, so they first made the payment and then figure out a way to continue study, though they might not be as likely to finish the course as the first type. Thus, we do not want to miss out revenue from the second cohort. "
   ]
  },
  {
   "cell_type": "markdown",
   "metadata": {},
   "source": [
    "#### 8. Follow-Up Experiment\n",
    "Below are the three evalution metrics that I want to test if we decide to increase the coaching resource. \n",
    "\n",
    "1. **Number of Payments:**\n",
    "   - Null Hypothesis (H0): There is no significant difference in the number of payments between the control and experimental groups.\n",
    "   - Alternative Hypothesis (H1): The experimental group will have a significantly higher number of payments compared to the control group.\n",
    "\n",
    "2. **Number of Enrollments:**\n",
    "   - Null Hypothesis (H0): There is no significant difference in the number of enrollments between the control and experimental groups.\n",
    "   - Alternative Hypothesis (H1): The experimental group will have a significantly higher number of enrollments compared to the control group.\n",
    "\n",
    "3. **Number of Questions Answered per Payment User:**\n",
    "   - Null Hypothesis (H0): There is no significant difference in the number of questions answered per payment user between the control and experimental groups.\n",
    "   - Alternative Hypothesis (H1): The experimental group will have a significantly higher number of questions answered per payment user compared to the control group.\n",
    "\n",
    "These hypotheses will help in assessing the impact of the increased coaching support on payments, enrollments, and user engagement with questions."
   ]
  },
  {
   "cell_type": "markdown",
   "metadata": {},
   "source": []
  }
 ],
 "metadata": {
  "kernelspec": {
   "display_name": "Python 3",
   "language": "python",
   "name": "python3"
  },
  "language_info": {
   "codemirror_mode": {
    "name": "ipython",
    "version": 3
   },
   "file_extension": ".py",
   "mimetype": "text/x-python",
   "name": "python",
   "nbconvert_exporter": "python",
   "pygments_lexer": "ipython3",
   "version": "3.10.12"
  }
 },
 "nbformat": 4,
 "nbformat_minor": 2
}
